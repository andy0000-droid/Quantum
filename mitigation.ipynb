{
 "cells": [
  {
   "cell_type": "code",
   "execution_count": 2,
   "metadata": {},
   "outputs": [],
   "source": [
    "import pennylane as qml\n",
    "\n",
    "n_wires = 4\n",
    "\n",
    "# Describe noise\n",
    "noise_gate = qml.PhaseDamping\n",
    "noise_strength = 0.1\n",
    "\n",
    "# Load devices\n",
    "dev_ideal = qml.device(\"default.mixed\", wires=n_wires)\n",
    "dev_noisy = qml.transforms.insert(noise_gate, noise_strength)(dev_ideal)"
   ]
  },
  {
   "cell_type": "code",
   "execution_count": 3,
   "metadata": {},
   "outputs": [],
   "source": [
    "from pennylane import numpy as np\n",
    "\n",
    "np.random.seed(1967)\n",
    "\n",
    "# Select template to use within circuit and generate parameters\n",
    "n_layers = 1\n",
    "template = qml.SimplifiedTwoDesign\n",
    "weights_shape = template.shape(n_layers, n_wires)\n",
    "w1, w2 = [2 * np.pi * np.random.random(s) for s in weights_shape]\n",
    "\n",
    "\n",
    "def circuit(w1, w2):\n",
    "    template(w1, w2, wires=range(n_wires))\n",
    "    qml.adjoint(template)(w1, w2, wires=range(n_wires))\n",
    "    return qml.expval(qml.PauliZ(0))\n",
    "\n",
    "\n",
    "ideal_qnode = qml.QNode(circuit, dev_ideal)\n",
    "noisy_qnode = qml.QNode(circuit, dev_noisy)"
   ]
  },
  {
   "cell_type": "code",
   "execution_count": 4,
   "metadata": {},
   "outputs": [
    {
     "name": "stdout",
     "output_type": "stream",
     "text": [
      "0: ──RY(4.56)─╭●──RY(5.93)──RY(-5.93)────────────────────────────────────╭●──RY(-4.56)─┤  <Z>\n",
      "1: ──RY(3.60)─╰Z──RY(5.90)─╭●──────────RY(5.18)──RY(-5.18)─╭●──RY(-5.90)─╰Z──RY(-3.60)─┤     \n",
      "2: ──RY(4.05)─╭●──RY(3.32)─╰Z──────────RY(1.07)──RY(-1.07)─╰Z──RY(-3.32)─╭●──RY(-4.05)─┤     \n",
      "3: ──RY(3.51)─╰Z──RY(3.66)──RY(-3.66)────────────────────────────────────╰Z──RY(-3.51)─┤     \n"
     ]
    }
   ],
   "source": [
    "print(qml.draw(ideal_qnode, expansion_strategy=\"device\")(w1, w2))"
   ]
  },
  {
   "cell_type": "code",
   "execution_count": 5,
   "metadata": {},
   "outputs": [
    {
     "data": {
      "text/plain": [
       "array(1.)"
      ]
     },
     "execution_count": 5,
     "metadata": {},
     "output_type": "execute_result"
    }
   ],
   "source": [
    "ideal_qnode(w1, w2)"
   ]
  },
  {
   "cell_type": "code",
   "execution_count": 6,
   "metadata": {},
   "outputs": [
    {
     "data": {
      "text/plain": [
       "array(0.71729164)"
      ]
     },
     "execution_count": 6,
     "metadata": {},
     "output_type": "execute_result"
    }
   ],
   "source": [
    "noisy_qnode(w1,w2)"
   ]
  },
  {
   "cell_type": "code",
   "execution_count": 7,
   "metadata": {},
   "outputs": [
    {
     "data": {
      "text/plain": [
       "0.8985196547410819"
      ]
     },
     "execution_count": 7,
     "metadata": {},
     "output_type": "execute_result"
    }
   ],
   "source": [
    "from mitiq import zne, benchmarks\n",
    "from mitiq.zne.scaling import fold_global\n",
    "from mitiq.zne.inference import RichardsonFactory\n",
    "from pennylane.transforms import mitigate_with_zne\n",
    "\n",
    "extrapolate = RichardsonFactory.extrapolate\n",
    "scale_factors = [1, 2, 3]\n",
    "\n",
    "mitigated_qnode = mitigate_with_zne(scale_factors, fold_global, extrapolate)(\n",
    "    noisy_qnode\n",
    ")\n",
    "mitigated_qnode(w1, w2)"
   ]
  },
  {
   "cell_type": "code",
   "execution_count": 8,
   "metadata": {},
   "outputs": [],
   "source": [
    "with qml.tape.QuantumTape() as circuit:\n",
    "    template(w1, w2, wires=range(n_wires))\n",
    "    qml.adjoint(template)(w1, w2, wires=range(n_wires))"
   ]
  },
  {
   "cell_type": "code",
   "execution_count": 9,
   "metadata": {},
   "outputs": [
    {
     "name": "stdout",
     "output_type": "stream",
     "text": [
      "Globally-folded circuit with a scale factor of 1:\n",
      "0: ──RY(4.56)─╭●──RY(5.93)──RY(-5.93)────────────────────────────────────╭●\n",
      "1: ──RY(3.60)─╰Z──RY(5.90)─╭●──────────RY(5.18)──RY(-5.18)─╭●──RY(-5.90)─╰Z\n",
      "2: ──RY(4.05)─╭●──RY(3.32)─╰Z──────────RY(1.07)──RY(-1.07)─╰Z──RY(-3.32)─╭●\n",
      "3: ──RY(3.51)─╰Z──RY(3.66)──RY(-3.66)────────────────────────────────────╰Z\n",
      "\n",
      "───RY(-4.56)─┤  \n",
      "───RY(-3.60)─┤  \n",
      "───RY(-4.05)─┤  \n",
      "───RY(-3.51)─┤  \n",
      "Globally-folded circuit with a scale factor of 2:\n",
      "0: ──RY(4.56)─╭●──RY(5.93)──RY(-5.93)────────────────────────────────────╭●\n",
      "1: ──RY(3.60)─╰Z──RY(5.90)─╭●──────────RY(5.18)──RY(-5.18)─╭●──RY(-5.90)─╰Z\n",
      "2: ──RY(4.05)─╭●──RY(3.32)─╰Z──────────RY(1.07)──RY(-1.07)─╰Z──RY(-3.32)─╭●\n",
      "3: ──RY(3.51)─╰Z──RY(3.66)──RY(-3.66)────────────────────────────────────╰Z\n",
      "\n",
      "───RY(-4.56)──RY(4.56)─╭●───────────────────────────────────────────────────────\n",
      "───RY(-3.60)──RY(3.60)─╰Z──RY(5.90)─╭●──RY(5.18)──RY(-5.18)──RY(5.18)──RY(-5.18)\n",
      "───RY(-4.05)──RY(4.05)─╭●──RY(3.32)─╰Z──RY(1.07)──RY(-1.07)──RY(1.07)──RY(-1.07)\n",
      "───RY(-3.51)──RY(3.51)─╰Z───────────────────────────────────────────────────────\n",
      "\n",
      "────────────────╭●──RY(-4.56)─┤  \n",
      "──╭●──RY(-5.90)─╰Z──RY(-3.60)─┤  \n",
      "──╰Z──RY(-3.32)─╭●──RY(-4.05)─┤  \n",
      "────────────────╰Z──RY(-3.51)─┤  \n",
      "Globally-folded circuit with a scale factor of 3:\n",
      "0: ──RY(4.56)─╭●──RY(5.93)──RY(-5.93)────────────────────────────────────╭●\n",
      "1: ──RY(3.60)─╰Z──RY(5.90)─╭●──────────RY(5.18)──RY(-5.18)─╭●──RY(-5.90)─╰Z\n",
      "2: ──RY(4.05)─╭●──RY(3.32)─╰Z──────────RY(1.07)──RY(-1.07)─╰Z──RY(-3.32)─╭●\n",
      "3: ──RY(3.51)─╰Z──RY(3.66)──RY(-3.66)────────────────────────────────────╰Z\n",
      "\n",
      "───RY(-4.56)──RY(4.56)─╭●──RY(5.93)──RY(-5.93)────────────────────────\n",
      "───RY(-3.60)──RY(3.60)─╰Z──RY(5.90)─╭●──────────RY(5.18)──RY(-5.18)─╭●\n",
      "───RY(-4.05)──RY(4.05)─╭●──RY(3.32)─╰Z──────────RY(1.07)──RY(-1.07)─╰Z\n",
      "───RY(-3.51)──RY(3.51)─╰Z──RY(3.66)──RY(-3.66)────────────────────────\n",
      "\n",
      "─────────────╭●──RY(-4.56)──RY(4.56)─╭●──RY(5.93)──RY(-5.93)──────────\n",
      "───RY(-5.90)─╰Z──RY(-3.60)──RY(3.60)─╰Z──RY(5.90)─╭●──────────RY(5.18)\n",
      "───RY(-3.32)─╭●──RY(-4.05)──RY(4.05)─╭●──RY(3.32)─╰Z──────────RY(1.07)\n",
      "─────────────╰Z──RY(-3.51)──RY(3.51)─╰Z──RY(3.66)──RY(-3.66)──────────\n",
      "\n",
      "───────────────────────────╭●──RY(-4.56)─┤  \n",
      "───RY(-5.18)─╭●──RY(-5.90)─╰Z──RY(-3.60)─┤  \n",
      "───RY(-1.07)─╰Z──RY(-3.32)─╭●──RY(-4.05)─┤  \n",
      "───────────────────────────╰Z──RY(-3.51)─┤  \n"
     ]
    }
   ],
   "source": [
    "scale_factors = [1, 2, 3]\n",
    "folded_circuits = [fold_global(circuit, scale_factor=s) for s in scale_factors]\n",
    "\n",
    "for s, c in zip(scale_factors, folded_circuits):\n",
    "    print(f\"Globally-folded circuit with a scale factor of {s}:\")\n",
    "    print(qml.drawer.tape_text(c, decimals=2, max_length=80))"
   ]
  },
  {
   "cell_type": "code",
   "execution_count": 10,
   "metadata": {},
   "outputs": [],
   "source": [
    "def executor(circuits, dev=dev_noisy):\n",
    "    # Support both a single circuit and multiple circuit execution\n",
    "    circuits = [circuits] if isinstance(circuits, qml.tape.QuantumTape) else circuits\n",
    "\n",
    "    circuits_with_meas = []\n",
    "\n",
    "    # Loop through circuits and add on measurement\n",
    "    for c in circuits:\n",
    "        with qml.tape.QuantumTape() as circuit_with_meas:\n",
    "            for o in c.operations:\n",
    "                qml.apply(o)\n",
    "            qml.expval(qml.PauliZ(0))\n",
    "        circuits_with_meas.append(circuit_with_meas)\n",
    "\n",
    "    return qml.execute(circuits_with_meas, dev, gradient_fn=None)"
   ]
  },
  {
   "cell_type": "code",
   "execution_count": 11,
   "metadata": {},
   "outputs": [
    {
     "data": {
      "text/plain": [
       "[array([1.]), array([1.]), array([1.])]"
      ]
     },
     "execution_count": 11,
     "metadata": {},
     "output_type": "execute_result"
    }
   ],
   "source": [
    "executor(folded_circuits, dev=dev_ideal)"
   ]
  },
  {
   "cell_type": "code",
   "execution_count": 12,
   "metadata": {},
   "outputs": [
    {
     "data": {
      "text/plain": [
       "[array([0.71729164]), array([0.54368629]), array([0.3777036])]"
      ]
     },
     "execution_count": 12,
     "metadata": {},
     "output_type": "execute_result"
    }
   ],
   "source": [
    "executor(folded_circuits, dev=dev_noisy)"
   ]
  },
  {
   "cell_type": "code",
   "execution_count": 13,
   "metadata": {},
   "outputs": [
    {
     "name": "stdout",
     "output_type": "stream",
     "text": [
      "ZNE result: 0.8985196547410819\n"
     ]
    }
   ],
   "source": [
    "# Evaluate noise-scaled expectation values\n",
    "noisy_expectation_values = executor(folded_circuits, dev=dev_noisy)\n",
    "\n",
    "# Initialize extrapolation method\n",
    "fac = RichardsonFactory(scale_factors)\n",
    "\n",
    "# Load data into extrapolation factory\n",
    "for x, y in zip(scale_factors, noisy_expectation_values):\n",
    "    fac.push({\"scale_factor\": x}, y)\n",
    "\n",
    "# Run extrapolation\n",
    "zero_noise = fac.reduce()\n",
    "\n",
    "print(f\"ZNE result: {zero_noise[0]}\")"
   ]
  },
  {
   "cell_type": "code",
   "execution_count": 14,
   "metadata": {},
   "outputs": [
    {
     "data": {
      "image/png": "[encoded data removed]",
      "text/plain": [
       "<Figure size 700x500 with 1 Axes>"
      ]
     },
     "metadata": {},
     "output_type": "display_data"
    }
   ],
   "source": [
    "_ = fac.plot_fit()"
   ]
  },
  {
   "cell_type": "code",
   "execution_count": 18,
   "metadata": {},
   "outputs": [],
   "source": [
    "#mitigated_qnode = mitigate_with_zne(scale_factors, folding, extrapolate)(qnode)"
   ]
  },
  {
   "cell_type": "code",
   "execution_count": 19,
   "metadata": {},
   "outputs": [
    {
     "data": {
      "text/plain": [
       "0.9984058167362934"
      ]
     },
     "execution_count": 19,
     "metadata": {},
     "output_type": "execute_result"
    }
   ],
   "source": [
    "from mitiq.zne.scaling import fold_gates_at_random as folding\n",
    "\n",
    "extrapolate = RichardsonFactory.extrapolate\n",
    "\n",
    "\n",
    "@mitigate_with_zne(scale_factors, folding, extrapolate, reps_per_factor=100)\n",
    "@qml.qnode(dev_noisy)\n",
    "def mitigated_qnode(w1, w2):\n",
    "    template(w1, w2, wires=range(n_wires))\n",
    "    qml.adjoint(template)(w1, w2, wires=range(n_wires))\n",
    "    return qml.expval(qml.PauliZ(0))\n",
    "\n",
    "\n",
    "mitigated_qnode(w1, w2)"
   ]
  },
  {
   "cell_type": "code",
   "execution_count": 20,
   "metadata": {},
   "outputs": [
    {
     "name": "stdout",
     "output_type": "stream",
     "text": [
      "0: ──RY(4.56)─╭●──RY(5.93)──RY(-5.93)────────────────────────────────────╭●\n",
      "1: ──RY(3.60)─╰Z──RY(5.90)─╭●──────────RY(5.18)──RY(-5.18)─╭●──RY(-5.90)─╰Z\n",
      "2: ──RY(4.05)─╭●──RY(3.32)─╰Z──────────RY(1.07)──RY(-1.07)─╰Z──RY(-3.32)─╭●\n",
      "3: ──RY(3.51)─╰Z──RY(3.66)──RY(-3.66)────────────────────────────────────╰Z\n",
      "\n",
      "───RY(-4.56)──────────────────────┤  \n",
      "───RY(-3.60)──RY(3.60)──RY(-3.60)─┤  \n",
      "───RY(-4.05)──────────────────────┤  \n",
      "───RY(-3.51)──────────────────────┤  \n",
      "0: ──RY(4.56)─╭●─╭●────────╭●──────────RY(5.93)──RY(-5.93)─────────────────────\n",
      "1: ──RY(3.60)─╰Z─╰Z────────╰Z──────────RY(5.90)─╭●──────────RY(5.18)──RY(-5.18)\n",
      "2: ──RY(4.05)─╭●──RY(3.32)──────────────────────╰Z──────────RY(1.07)──RY(-1.07)\n",
      "3: ──RY(3.51)─╰Z──RY(3.66)──RY(-3.66)──────────────────────────────────────────\n",
      "\n",
      "────────────────╭●──RY(-4.56)─┤  \n",
      "──╭●──RY(-5.90)─╰Z──RY(-3.60)─┤  \n",
      "──╰Z──RY(-3.32)─╭●──RY(-4.05)─┤  \n",
      "────────────────╰Z──RY(-3.51)─┤  \n",
      "0: ──RY(4.56)─╭●──RY(5.93)──RY(-5.93)─────────────────────────────────────────\n",
      "1: ──RY(3.60)─╰Z──RY(5.90)─╭●─────────╭●─╭●──RY(5.18)──RY(-5.18)─╭●──RY(-5.90)\n",
      "2: ──RY(4.05)─╭●──RY(3.32)─╰Z─────────╰Z─╰Z──RY(1.07)──RY(-1.07)─╰Z──RY(-3.32)\n",
      "3: ──RY(3.51)─╰Z──RY(3.66)──RY(-3.66)─────────────────────────────────────────\n",
      "\n",
      "──╭●──RY(-4.56)─┤  \n",
      "──╰Z──RY(-3.60)─┤  \n",
      "──╭●──RY(-4.05)─┤  \n",
      "──╰Z──RY(-3.51)─┤  \n"
     ]
    }
   ],
   "source": [
    "for _ in range(3):\n",
    "    print(qml.drawer.tape_text(folding(circuit, scale_factor=1.1), decimals=2, max_length=80))"
   ]
  },
  {
   "cell_type": "code",
   "execution_count": 21,
   "metadata": {},
   "outputs": [
    {
     "data": {
      "text/plain": [
       "0.9589759400073741"
      ]
     },
     "execution_count": 21,
     "metadata": {},
     "output_type": "execute_result"
    }
   ],
   "source": [
    "from mitiq.zne import execute_with_zne\n",
    "from mitiq.zne.inference import AdaExpFactory\n",
    "\n",
    "factory = AdaExpFactory(steps=20)\n",
    "\n",
    "execute_with_zne(circuit, executor, factory=factory, scale_noise=fold_global)"
   ]
  },
  {
   "cell_type": "code",
   "execution_count": 22,
   "metadata": {},
   "outputs": [
    {
     "name": "stderr",
     "output_type": "stream",
     "text": [
      "/var/folders/p9/gsg6n22x4bn6jplw95gz1fmh0000gn/T/ipykernel_81588/4049148305.py:1: DeprecationWarning: The module 'qiskit.test.mock' is deprecated since Qiskit Terra 0.21.0, and will be removed 3 months or more later. Instead, you should import the desired object directly 'qiskit.providers.fake_provider'.\n",
      "  from qiskit.test.mock import FakeLima\n"
     ]
    }
   ],
   "source": [
    "from qiskit.test.mock import FakeLima\n",
    "from qiskit.providers.aer.noise import NoiseModel\n",
    "\n",
    "backend = FakeLima()\n",
    "noise_model = NoiseModel.from_backend(backend)"
   ]
  },
  {
   "cell_type": "code",
   "execution_count": 23,
   "metadata": {},
   "outputs": [],
   "source": [
    "n_wires = 4\n",
    "\n",
    "dev_ideal = qml.device(\"default.qubit\", wires=n_wires)\n",
    "dev_noisy = qml.device(\n",
    "    \"qiskit.aer\",\n",
    "    wires=n_wires,\n",
    "    noise_model=noise_model,\n",
    "    optimization_level=0,\n",
    "    shots=10000,\n",
    ")"
   ]
  },
  {
   "cell_type": "code",
   "execution_count": 31,
   "metadata": {},
   "outputs": [],
   "source": [
    "params = np.load(\"./Error_mitigation/params.npy\")"
   ]
  },
  {
   "cell_type": "code",
   "execution_count": 32,
   "metadata": {},
   "outputs": [],
   "source": [
    "from pennylane import qchem\n",
    "\n",
    "# Describe quantum chemistry problem\n",
    "symbols = [\"H\", \"H\"]\n",
    "distances = np.arange(0.5, 3.0, 0.25)\n",
    "\n",
    "ideal_energies = []\n",
    "noisy_energies = []\n",
    "\n",
    "for r, phi in zip(distances, params):\n",
    "    # Assume atoms lie on the Z axis\n",
    "    coordinates = np.array([0.0, 0.0, 0.0, 0.0, 0.0, r])\n",
    "\n",
    "    # Load qubit Hamiltonian\n",
    "    H, _ = qchem.molecular_hamiltonian(symbols, coordinates)\n",
    "\n",
    "    # Define ansatz circuit\n",
    "    def qchem_circuit(phi):\n",
    "        qml.PauliX(wires=0)\n",
    "        qml.PauliX(wires=1)\n",
    "        qml.DoubleExcitation(phi, wires=range(n_wires))\n",
    "        return qml.expval(H)\n",
    "\n",
    "    ideal_energy = qml.QNode(qchem_circuit, dev_ideal)\n",
    "    noisy_energy = qml.QNode(qchem_circuit, dev_noisy)\n",
    "\n",
    "    ideal_energies.append(ideal_energy(phi))\n",
    "    noisy_energies.append(noisy_energy(phi))"
   ]
  },
  {
   "cell_type": "code",
   "execution_count": 33,
   "metadata": {},
   "outputs": [],
   "source": [
    "mitig_energies = []\n",
    "\n",
    "for r, phi in zip(distances, params):\n",
    "    # Assume atoms lie on the Z axis\n",
    "    coordinates = np.array([0.0, 0.0, 0.0, 0.0, 0.0, r])\n",
    "\n",
    "    # Load qubit Hamiltonian\n",
    "    H, _ = qchem.molecular_hamiltonian(symbols, coordinates)\n",
    "\n",
    "    # Define ansatz circuit\n",
    "    with qml.tape.QuantumTape() as circuit:\n",
    "        qml.PauliX(wires=0)\n",
    "        qml.PauliX(wires=1)\n",
    "        qml.DoubleExcitation(phi, wires=range(n_wires))\n",
    "\n",
    "    # Define custom executor that expands Hamiltonian measurement\n",
    "    # into a linear combination of tensor products of Pauli\n",
    "    # operators.\n",
    "    def executor(circuit):\n",
    "\n",
    "        # Add Hamiltonian measurement to circuit\n",
    "        with qml.tape.QuantumTape() as circuit_with_meas:\n",
    "            for o in circuit.operations:\n",
    "                qml.apply(o)\n",
    "            qml.expval(H)\n",
    "\n",
    "        # Expand Hamiltonian measurement into tensor product of\n",
    "        # of Pauli operators. We get a list of circuits to execute\n",
    "        # and a postprocessing function to combine the results into\n",
    "        # a single number.\n",
    "        circuits, postproc = qml.transforms.hamiltonian_expand(\n",
    "            circuit_with_meas, group=False\n",
    "        )\n",
    "        circuits_executed = qml.execute(circuits, dev_noisy, gradient_fn=None)\n",
    "        return postproc(circuits_executed)\n",
    "\n",
    "    mitig_energy = execute_with_zne(circuit, executor, scale_noise=fold_global)\n",
    "    mitig_energies.append(mitig_energy)"
   ]
  },
  {
   "cell_type": "code",
   "execution_count": 34,
   "metadata": {},
   "outputs": [
    {
     "data": {
      "image/png": "[encoded data removed]",
      "text/plain": [
       "<Figure size 640x480 with 1 Axes>"
      ]
     },
     "metadata": {},
     "output_type": "display_data"
    }
   ],
   "source": [
    "import matplotlib.pyplot as plt\n",
    "\n",
    "plt.plot(ideal_energies, label=\"ideal\")\n",
    "plt.plot(noisy_energies, label=\"noisy\")\n",
    "plt.plot(mitig_energies, label=\"mitigated\")\n",
    "plt.xlabel(\"Bond length (Bohr)\")\n",
    "plt.ylabel(\"Total energy (Hartree)\")\n",
    "plt.legend()\n",
    "plt.show()"
   ]
  }
 ],
 "metadata": {
  "kernelspec": {
   "display_name": "Python 3.10.8 64-bit",
   "language": "python",
   "name": "python3"
  },
  "language_info": {
   "codemirror_mode": {
    "name": "ipython",
    "version": 3
   },
   "file_extension": ".py",
   "mimetype": "text/x-python",
   "name": "python",
   "nbconvert_exporter": "python",
   "pygments_lexer": "ipython3",
   "version": "3.10.8"
  },
  "orig_nbformat": 4,
  "vscode": {
   "interpreter": {
    "hash": "b0fa6594d8f4cbf19f97940f81e996739fb7646882a419484c72d19e05852a7e"
   }
  }
 },
 "nbformat": 4,
 "nbformat_minor": 2
}
