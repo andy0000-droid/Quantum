{
 "cells": [
  {
   "cell_type": "code",
   "execution_count": 105,
   "metadata": {},
   "outputs": [
    {
     "name": "stdout",
     "output_type": "stream",
     "text": [
      "\n",
      "Usage:   \n",
      "  /opt/homebrew/opt/python@3.10/bin/python3.10 -m pip install [options] <requirement specifier> [package-index-options] ...\n",
      "  /opt/homebrew/opt/python@3.10/bin/python3.10 -m pip install [options] -r <requirements file> [package-index-options] ...\n",
      "  /opt/homebrew/opt/python@3.10/bin/python3.10 -m pip install [options] [-e] <vcs project url> ...\n",
      "  /opt/homebrew/opt/python@3.10/bin/python3.10 -m pip install [options] [-e] <local project path> ...\n",
      "  /opt/homebrew/opt/python@3.10/bin/python3.10 -m pip install [options] <archive url/path> ...\n",
      "\n",
      "no such option: --upgarde\n",
      "Note: you may need to restart the kernel to use updated packages.\n",
      "zsh:1: no matches found: pennylane-lightning[gpu]\n",
      "Note: you may need to restart the kernel to use updated packages.\n",
      "Requirement already satisfied: mitiq>=0.11 in /opt/homebrew/lib/python3.10/site-packages (0.20.0)\n",
      "Requirement already satisfied: cirq~=1.0.0 in /opt/homebrew/lib/python3.10/site-packages (from mitiq>=0.11) (1.0.0)\n",
      "Requirement already satisfied: scipy~=1.9.3 in /opt/homebrew/lib/python3.10/site-packages (from mitiq>=0.11) (1.9.3)\n",
      "Requirement already satisfied: numpy~=1.23.4 in /opt/homebrew/lib/python3.10/site-packages (from mitiq>=0.11) (1.23.4)\n",
      "Requirement already satisfied: cirq-core==1.0.0 in /opt/homebrew/lib/python3.10/site-packages (from cirq~=1.0.0->mitiq>=0.11) (1.0.0)\n",
      "Requirement already satisfied: cirq-web==1.0.0 in /opt/homebrew/lib/python3.10/site-packages (from cirq~=1.0.0->mitiq>=0.11) (1.0.0)\n",
      "Requirement already satisfied: cirq-google==1.0.0 in /opt/homebrew/lib/python3.10/site-packages (from cirq~=1.0.0->mitiq>=0.11) (1.0.0)\n",
      "Requirement already satisfied: cirq-rigetti==1.0.0 in /opt/homebrew/lib/python3.10/site-packages (from cirq~=1.0.0->mitiq>=0.11) (1.0.0)\n",
      "Requirement already satisfied: cirq-aqt==1.0.0 in /opt/homebrew/lib/python3.10/site-packages (from cirq~=1.0.0->mitiq>=0.11) (1.0.0)\n",
      "Requirement already satisfied: cirq-ionq==1.0.0 in /opt/homebrew/lib/python3.10/site-packages (from cirq~=1.0.0->mitiq>=0.11) (1.0.0)\n",
      "Requirement already satisfied: cirq-pasqal==1.0.0 in /opt/homebrew/lib/python3.10/site-packages (from cirq~=1.0.0->mitiq>=0.11) (1.0.0)\n",
      "Requirement already satisfied: requests~=2.18 in /opt/homebrew/lib/python3.10/site-packages (from cirq-aqt==1.0.0->cirq~=1.0.0->mitiq>=0.11) (2.28.1)\n",
      "Requirement already satisfied: sortedcontainers~=2.0 in /opt/homebrew/lib/python3.10/site-packages (from cirq-core==1.0.0->cirq~=1.0.0->mitiq>=0.11) (2.4.0)\n",
      "Requirement already satisfied: pandas in /opt/homebrew/lib/python3.10/site-packages (from cirq-core==1.0.0->cirq~=1.0.0->mitiq>=0.11) (1.5.1)\n",
      "Requirement already satisfied: matplotlib~=3.0 in /opt/homebrew/lib/python3.10/site-packages (from cirq-core==1.0.0->cirq~=1.0.0->mitiq>=0.11) (3.5.3)\n",
      "Requirement already satisfied: tqdm in /opt/homebrew/lib/python3.10/site-packages (from cirq-core==1.0.0->cirq~=1.0.0->mitiq>=0.11) (4.64.1)\n",
      "Requirement already satisfied: typing-extensions in /opt/homebrew/lib/python3.10/site-packages (from cirq-core==1.0.0->cirq~=1.0.0->mitiq>=0.11) (4.4.0)\n",
      "Requirement already satisfied: networkx~=2.4 in /opt/homebrew/lib/python3.10/site-packages (from cirq-core==1.0.0->cirq~=1.0.0->mitiq>=0.11) (2.8.6)\n",
      "Requirement already satisfied: duet~=0.2.7 in /opt/homebrew/lib/python3.10/site-packages (from cirq-core==1.0.0->cirq~=1.0.0->mitiq>=0.11) (0.2.7)\n",
      "Requirement already satisfied: sympy in /opt/homebrew/lib/python3.10/site-packages (from cirq-core==1.0.0->cirq~=1.0.0->mitiq>=0.11) (1.11.1)\n",
      "Requirement already satisfied: proto-plus>=1.20.0 in /opt/homebrew/lib/python3.10/site-packages (from cirq-google==1.0.0->cirq~=1.0.0->mitiq>=0.11) (1.22.1)\n",
      "Requirement already satisfied: google-api-core[grpc]<2.0.0dev,>=1.14.0 in /opt/homebrew/lib/python3.10/site-packages (from cirq-google==1.0.0->cirq~=1.0.0->mitiq>=0.11) (1.33.2)\n",
      "Requirement already satisfied: protobuf<4,>=3.15.0 in /opt/homebrew/lib/python3.10/site-packages (from cirq-google==1.0.0->cirq~=1.0.0->mitiq>=0.11) (3.20.3)\n",
      "Requirement already satisfied: pyquil>=3.0.0 in /opt/homebrew/lib/python3.10/site-packages (from cirq-rigetti==1.0.0->cirq~=1.0.0->mitiq>=0.11) (3.3.2)\n",
      "Requirement already satisfied: google-auth<3.0dev,>=1.25.0 in /opt/homebrew/lib/python3.10/site-packages (from google-api-core[grpc]<2.0.0dev,>=1.14.0->cirq-google==1.0.0->cirq~=1.0.0->mitiq>=0.11) (2.14.1)\n",
      "Requirement already satisfied: googleapis-common-protos<2.0dev,>=1.56.2 in /opt/homebrew/lib/python3.10/site-packages (from google-api-core[grpc]<2.0.0dev,>=1.14.0->cirq-google==1.0.0->cirq~=1.0.0->mitiq>=0.11) (1.56.4)\n",
      "Requirement already satisfied: grpcio-status<2.0dev,>=1.33.2 in /opt/homebrew/lib/python3.10/site-packages (from google-api-core[grpc]<2.0.0dev,>=1.14.0->cirq-google==1.0.0->cirq~=1.0.0->mitiq>=0.11) (1.48.2)\n",
      "Requirement already satisfied: grpcio<2.0dev,>=1.33.2 in /opt/homebrew/lib/python3.10/site-packages (from google-api-core[grpc]<2.0.0dev,>=1.14.0->cirq-google==1.0.0->cirq~=1.0.0->mitiq>=0.11) (1.50.0)\n",
      "Requirement already satisfied: kiwisolver>=1.0.1 in /opt/homebrew/lib/python3.10/site-packages (from matplotlib~=3.0->cirq-core==1.0.0->cirq~=1.0.0->mitiq>=0.11) (1.4.4)\n",
      "Requirement already satisfied: packaging>=20.0 in /opt/homebrew/lib/python3.10/site-packages (from matplotlib~=3.0->cirq-core==1.0.0->cirq~=1.0.0->mitiq>=0.11) (21.3)\n",
      "Requirement already satisfied: cycler>=0.10 in /opt/homebrew/lib/python3.10/site-packages (from matplotlib~=3.0->cirq-core==1.0.0->cirq~=1.0.0->mitiq>=0.11) (0.11.0)\n",
      "Requirement already satisfied: pillow>=6.2.0 in /opt/homebrew/lib/python3.10/site-packages (from matplotlib~=3.0->cirq-core==1.0.0->cirq~=1.0.0->mitiq>=0.11) (9.2.0)\n",
      "Requirement already satisfied: fonttools>=4.22.0 in /opt/homebrew/lib/python3.10/site-packages (from matplotlib~=3.0->cirq-core==1.0.0->cirq~=1.0.0->mitiq>=0.11) (4.37.1)\n",
      "Requirement already satisfied: python-dateutil>=2.7 in /opt/homebrew/lib/python3.10/site-packages (from matplotlib~=3.0->cirq-core==1.0.0->cirq~=1.0.0->mitiq>=0.11) (2.8.2)\n",
      "Requirement already satisfied: pyparsing>=2.2.1 in /opt/homebrew/lib/python3.10/site-packages (from matplotlib~=3.0->cirq-core==1.0.0->cirq~=1.0.0->mitiq>=0.11) (3.0.9)\n",
      "Requirement already satisfied: retry<0.10.0,>=0.9.2 in /opt/homebrew/lib/python3.10/site-packages (from pyquil>=3.0.0->cirq-rigetti==1.0.0->cirq~=1.0.0->mitiq>=0.11) (0.9.2)\n",
      "Requirement already satisfied: lark<0.12.0,>=0.11.1 in /opt/homebrew/lib/python3.10/site-packages (from pyquil>=3.0.0->cirq-rigetti==1.0.0->cirq~=1.0.0->mitiq>=0.11) (0.11.3)\n",
      "Requirement already satisfied: types-retry<0.10.0,>=0.9.9 in /opt/homebrew/lib/python3.10/site-packages (from pyquil>=3.0.0->cirq-rigetti==1.0.0->cirq~=1.0.0->mitiq>=0.11) (0.9.9)\n",
      "Requirement already satisfied: qcs-api-client<0.22.0,>=0.21.0 in /opt/homebrew/lib/python3.10/site-packages (from pyquil>=3.0.0->cirq-rigetti==1.0.0->cirq~=1.0.0->mitiq>=0.11) (0.21.2)\n",
      "Requirement already satisfied: rpcq<4.0.0,>=3.10.0 in /opt/homebrew/lib/python3.10/site-packages (from pyquil>=3.0.0->cirq-rigetti==1.0.0->cirq~=1.0.0->mitiq>=0.11) (3.10.0)\n",
      "Requirement already satisfied: types-python-dateutil<3.0.0,>=2.8.19 in /opt/homebrew/lib/python3.10/site-packages (from pyquil>=3.0.0->cirq-rigetti==1.0.0->cirq~=1.0.0->mitiq>=0.11) (2.8.19.3)\n",
      "Requirement already satisfied: charset-normalizer<3,>=2 in /opt/homebrew/lib/python3.10/site-packages (from requests~=2.18->cirq-aqt==1.0.0->cirq~=1.0.0->mitiq>=0.11) (2.1.1)\n",
      "Requirement already satisfied: idna<4,>=2.5 in /opt/homebrew/lib/python3.10/site-packages (from requests~=2.18->cirq-aqt==1.0.0->cirq~=1.0.0->mitiq>=0.11) (3.4)\n",
      "Requirement already satisfied: urllib3<1.27,>=1.21.1 in /opt/homebrew/lib/python3.10/site-packages (from requests~=2.18->cirq-aqt==1.0.0->cirq~=1.0.0->mitiq>=0.11) (1.26.12)\n",
      "Requirement already satisfied: certifi>=2017.4.17 in /opt/homebrew/lib/python3.10/site-packages (from requests~=2.18->cirq-aqt==1.0.0->cirq~=1.0.0->mitiq>=0.11) (2022.9.24)\n",
      "Requirement already satisfied: pytz>=2020.1 in /opt/homebrew/lib/python3.10/site-packages (from pandas->cirq-core==1.0.0->cirq~=1.0.0->mitiq>=0.11) (2022.6)\n",
      "Requirement already satisfied: mpmath>=0.19 in /opt/homebrew/lib/python3.10/site-packages (from sympy->cirq-core==1.0.0->cirq~=1.0.0->mitiq>=0.11) (1.2.1)\n",
      "Requirement already satisfied: rsa<5,>=3.1.4 in /opt/homebrew/lib/python3.10/site-packages (from google-auth<3.0dev,>=1.25.0->google-api-core[grpc]<2.0.0dev,>=1.14.0->cirq-google==1.0.0->cirq~=1.0.0->mitiq>=0.11) (4.9)\n",
      "Requirement already satisfied: cachetools<6.0,>=2.0.0 in /opt/homebrew/lib/python3.10/site-packages (from google-auth<3.0dev,>=1.25.0->google-api-core[grpc]<2.0.0dev,>=1.14.0->cirq-google==1.0.0->cirq~=1.0.0->mitiq>=0.11) (5.2.0)\n",
      "Requirement already satisfied: pyasn1-modules>=0.2.1 in /opt/homebrew/lib/python3.10/site-packages (from google-auth<3.0dev,>=1.25.0->google-api-core[grpc]<2.0.0dev,>=1.14.0->cirq-google==1.0.0->cirq~=1.0.0->mitiq>=0.11) (0.2.8)\n",
      "Requirement already satisfied: six>=1.9.0 in /opt/homebrew/lib/python3.10/site-packages (from google-auth<3.0dev,>=1.25.0->google-api-core[grpc]<2.0.0dev,>=1.14.0->cirq-google==1.0.0->cirq~=1.0.0->mitiq>=0.11) (1.16.0)\n",
      "Requirement already satisfied: httpx<0.24.0,>=0.23.0 in /opt/homebrew/lib/python3.10/site-packages (from qcs-api-client<0.22.0,>=0.21.0->pyquil>=3.0.0->cirq-rigetti==1.0.0->cirq~=1.0.0->mitiq>=0.11) (0.23.0)\n",
      "Requirement already satisfied: toml<0.11.0,>=0.10.2 in /opt/homebrew/lib/python3.10/site-packages (from qcs-api-client<0.22.0,>=0.21.0->pyquil>=3.0.0->cirq-rigetti==1.0.0->cirq~=1.0.0->mitiq>=0.11) (0.10.2)\n",
      "Requirement already satisfied: PyJWT<3.0.0,>=2.4.0 in /opt/homebrew/lib/python3.10/site-packages (from qcs-api-client<0.22.0,>=0.21.0->pyquil>=3.0.0->cirq-rigetti==1.0.0->cirq~=1.0.0->mitiq>=0.11) (2.6.0)\n",
      "Requirement already satisfied: attrs<21.0.0,>=20.1.0 in /opt/homebrew/lib/python3.10/site-packages (from qcs-api-client<0.22.0,>=0.21.0->pyquil>=3.0.0->cirq-rigetti==1.0.0->cirq~=1.0.0->mitiq>=0.11) (20.3.0)\n",
      "Requirement already satisfied: pydantic<2.0.0,>=1.7.2 in /opt/homebrew/lib/python3.10/site-packages (from qcs-api-client<0.22.0,>=0.21.0->pyquil>=3.0.0->cirq-rigetti==1.0.0->cirq~=1.0.0->mitiq>=0.11) (1.10.2)\n",
      "Requirement already satisfied: retrying<2.0.0,>=1.3.3 in /opt/homebrew/lib/python3.10/site-packages (from qcs-api-client<0.22.0,>=0.21.0->pyquil>=3.0.0->cirq-rigetti==1.0.0->cirq~=1.0.0->mitiq>=0.11) (1.3.3)\n",
      "Requirement already satisfied: rfc3339<7.0,>=6.2 in /opt/homebrew/lib/python3.10/site-packages (from qcs-api-client<0.22.0,>=0.21.0->pyquil>=3.0.0->cirq-rigetti==1.0.0->cirq~=1.0.0->mitiq>=0.11) (6.2)\n",
      "Requirement already satisfied: iso8601<2.0.0,>=1.0.2 in /opt/homebrew/lib/python3.10/site-packages (from qcs-api-client<0.22.0,>=0.21.0->pyquil>=3.0.0->cirq-rigetti==1.0.0->cirq~=1.0.0->mitiq>=0.11) (1.1.0)\n",
      "Requirement already satisfied: decorator>=3.4.2 in /opt/homebrew/lib/python3.10/site-packages (from retry<0.10.0,>=0.9.2->pyquil>=3.0.0->cirq-rigetti==1.0.0->cirq~=1.0.0->mitiq>=0.11) (5.1.1)\n",
      "Requirement already satisfied: py<2.0.0,>=1.4.26 in /opt/homebrew/lib/python3.10/site-packages (from retry<0.10.0,>=0.9.2->pyquil>=3.0.0->cirq-rigetti==1.0.0->cirq~=1.0.0->mitiq>=0.11) (1.11.0)\n",
      "Requirement already satisfied: pyzmq>=17 in /opt/homebrew/lib/python3.10/site-packages (from rpcq<4.0.0,>=3.10.0->pyquil>=3.0.0->cirq-rigetti==1.0.0->cirq~=1.0.0->mitiq>=0.11) (23.2.1)\n",
      "Requirement already satisfied: msgpack<1.0,>=0.6 in /opt/homebrew/lib/python3.10/site-packages (from rpcq<4.0.0,>=3.10.0->pyquil>=3.0.0->cirq-rigetti==1.0.0->cirq~=1.0.0->mitiq>=0.11) (0.6.2)\n",
      "Requirement already satisfied: python-rapidjson in /opt/homebrew/lib/python3.10/site-packages (from rpcq<4.0.0,>=3.10.0->pyquil>=3.0.0->cirq-rigetti==1.0.0->cirq~=1.0.0->mitiq>=0.11) (1.9)\n",
      "Requirement already satisfied: ruamel.yaml in /opt/homebrew/lib/python3.10/site-packages (from rpcq<4.0.0,>=3.10.0->pyquil>=3.0.0->cirq-rigetti==1.0.0->cirq~=1.0.0->mitiq>=0.11) (0.17.21)\n",
      "Requirement already satisfied: rfc3986[idna2008]<2,>=1.3 in /opt/homebrew/lib/python3.10/site-packages (from httpx<0.24.0,>=0.23.0->qcs-api-client<0.22.0,>=0.21.0->pyquil>=3.0.0->cirq-rigetti==1.0.0->cirq~=1.0.0->mitiq>=0.11) (1.5.0)\n",
      "Requirement already satisfied: sniffio in /opt/homebrew/lib/python3.10/site-packages (from httpx<0.24.0,>=0.23.0->qcs-api-client<0.22.0,>=0.21.0->pyquil>=3.0.0->cirq-rigetti==1.0.0->cirq~=1.0.0->mitiq>=0.11) (1.3.0)\n",
      "Requirement already satisfied: httpcore<0.16.0,>=0.15.0 in /opt/homebrew/lib/python3.10/site-packages (from httpx<0.24.0,>=0.23.0->qcs-api-client<0.22.0,>=0.21.0->pyquil>=3.0.0->cirq-rigetti==1.0.0->cirq~=1.0.0->mitiq>=0.11) (0.15.0)\n",
      "Requirement already satisfied: pyasn1<0.5.0,>=0.4.6 in /opt/homebrew/lib/python3.10/site-packages (from pyasn1-modules>=0.2.1->google-auth<3.0dev,>=1.25.0->google-api-core[grpc]<2.0.0dev,>=1.14.0->cirq-google==1.0.0->cirq~=1.0.0->mitiq>=0.11) (0.4.8)\n",
      "Requirement already satisfied: ruamel.yaml.clib>=0.2.6 in /opt/homebrew/lib/python3.10/site-packages (from ruamel.yaml->rpcq<4.0.0,>=3.10.0->pyquil>=3.0.0->cirq-rigetti==1.0.0->cirq~=1.0.0->mitiq>=0.11) (0.2.7)\n",
      "Requirement already satisfied: anyio==3.* in /opt/homebrew/lib/python3.10/site-packages (from httpcore<0.16.0,>=0.15.0->httpx<0.24.0,>=0.23.0->qcs-api-client<0.22.0,>=0.21.0->pyquil>=3.0.0->cirq-rigetti==1.0.0->cirq~=1.0.0->mitiq>=0.11) (3.6.2)\n",
      "Requirement already satisfied: h11<0.13,>=0.11 in /opt/homebrew/lib/python3.10/site-packages (from httpcore<0.16.0,>=0.15.0->httpx<0.24.0,>=0.23.0->qcs-api-client<0.22.0,>=0.21.0->pyquil>=3.0.0->cirq-rigetti==1.0.0->cirq~=1.0.0->mitiq>=0.11) (0.12.0)\n",
      "Note: you may need to restart the kernel to use updated packages.\n"
     ]
    }
   ],
   "source": [
    "#Implement Error mitigation circuit with pennylane\n",
    "%pip install pennylane --upgarde\n",
    "%pip install pennylane-lightning pennylane-lightning[gpu] pennylane-sf pennylane-qiskit pennylane-cirq\n",
    "%pip install \"mitiq>=0.11\""
   ]
  },
  {
   "cell_type": "code",
   "execution_count": 106,
   "metadata": {},
   "outputs": [],
   "source": [
    "import pennylane as qml\n",
    "\n",
    "n_wires = 4\n",
    "\n",
    "# Describe noise\n",
    "noise_gate = qml.PhaseDamping\n",
    "noise_strength = 0.1\n",
    "\n",
    "# Load devices\n",
    "dev_ideal = qml.device(\"default.mixed\", wires=n_wires) #circuit in ideal state\n",
    "dev_noisy = qml.transforms.insert(noise_gate, noise_strength)(dev_ideal) #circuit in nosiy state"
   ]
  },
  {
   "cell_type": "code",
   "execution_count": 107,
   "metadata": {},
   "outputs": [],
   "source": [
    "from pennylane import numpy as np\n",
    "\n",
    "np.random.seed(1967)\n",
    "#np.random.seed(2000)\n",
    "\n",
    "# Select template to use within circuit and generate parameters\n",
    "n_layers = 1\n",
    "template = qml.SimplifiedTwoDesign\n",
    "weights_shape = template.shape(n_layers, n_wires)\n",
    "w1, w2 = [2 * np.pi * np.random.random(s) for s in weights_shape]\n",
    "\n",
    "\n",
    "def circuit(w1, w2):\n",
    "    template(w1, w2, wires=range(n_wires))\n",
    "    qml.adjoint(template)(w1, w2, wires=range(n_wires))\n",
    "    return qml.expval(qml.PauliZ(0))\n",
    "\n",
    "\n",
    "ideal_qnode = qml.QNode(circuit, dev_ideal)\n",
    "noisy_qnode = qml.QNode(circuit, dev_noisy)"
   ]
  },
  {
   "cell_type": "code",
   "execution_count": 108,
   "metadata": {},
   "outputs": [
    {
     "name": "stdout",
     "output_type": "stream",
     "text": [
      "0: ──RY(4.56)─╭●──RY(5.93)──RY(-5.93)────────────────────────────────────╭●──RY(-4.56)─┤  <Z>\n",
      "1: ──RY(3.60)─╰Z──RY(5.90)─╭●──────────RY(5.18)──RY(-5.18)─╭●──RY(-5.90)─╰Z──RY(-3.60)─┤     \n",
      "2: ──RY(4.05)─╭●──RY(3.32)─╰Z──────────RY(1.07)──RY(-1.07)─╰Z──RY(-3.32)─╭●──RY(-4.05)─┤     \n",
      "3: ──RY(3.51)─╰Z──RY(3.66)──RY(-3.66)────────────────────────────────────╰Z──RY(-3.51)─┤     \n"
     ]
    }
   ],
   "source": [
    "print(qml.draw(ideal_qnode, expansion_strategy=\"device\")(w1, w2))"
   ]
  },
  {
   "cell_type": "code",
   "execution_count": 109,
   "metadata": {},
   "outputs": [
    {
     "data": {
      "text/plain": [
       "array(1.)"
      ]
     },
     "execution_count": 109,
     "metadata": {},
     "output_type": "execute_result"
    }
   ],
   "source": [
    "ideal_qnode(w1, w2)"
   ]
  },
  {
   "cell_type": "code",
   "execution_count": 110,
   "metadata": {},
   "outputs": [
    {
     "data": {
      "text/plain": [
       "array(0.71729164)"
      ]
     },
     "execution_count": 110,
     "metadata": {},
     "output_type": "execute_result"
    }
   ],
   "source": [
    "noisy_qnode(w1,w2)"
   ]
  },
  {
   "cell_type": "code",
   "execution_count": 111,
   "metadata": {},
   "outputs": [
    {
     "data": {
      "text/plain": [
       "0.8985196547410819"
      ]
     },
     "execution_count": 111,
     "metadata": {},
     "output_type": "execute_result"
    }
   ],
   "source": [
    "from mitiq import zne, benchmarks\n",
    "from mitiq.zne.scaling import fold_global\n",
    "from mitiq.zne.inference import RichardsonFactory\n",
    "from pennylane.transforms import mitigate_with_zne\n",
    "\n",
    "extrapolate = RichardsonFactory.extrapolate\n",
    "scale_factors = [1, 2, 3]\n",
    "\n",
    "mitigated_qnode = mitigate_with_zne(scale_factors, fold_global, extrapolate)(\n",
    "    noisy_qnode\n",
    ")\n",
    "mitigated_qnode(w1, w2)"
   ]
  },
  {
   "cell_type": "code",
   "execution_count": 112,
   "metadata": {},
   "outputs": [],
   "source": [
    "with qml.tape.QuantumTape() as circuit:\n",
    "    template(w1, w2, wires=range(n_wires))\n",
    "    qml.adjoint(template)(w1, w2, wires=range(n_wires))"
   ]
  },
  {
   "cell_type": "code",
   "execution_count": 113,
   "metadata": {},
   "outputs": [
    {
     "name": "stdout",
     "output_type": "stream",
     "text": [
      "Globally-folded circuit with a scale factor of 1:\n",
      "0: ──RY(4.56)─╭●──RY(5.93)──RY(-5.93)────────────────────────────────────╭●\n",
      "1: ──RY(3.60)─╰Z──RY(5.90)─╭●──────────RY(5.18)──RY(-5.18)─╭●──RY(-5.90)─╰Z\n",
      "2: ──RY(4.05)─╭●──RY(3.32)─╰Z──────────RY(1.07)──RY(-1.07)─╰Z──RY(-3.32)─╭●\n",
      "3: ──RY(3.51)─╰Z──RY(3.66)──RY(-3.66)────────────────────────────────────╰Z\n",
      "\n",
      "───RY(-4.56)─┤  \n",
      "───RY(-3.60)─┤  \n",
      "───RY(-4.05)─┤  \n",
      "───RY(-3.51)─┤  \n",
      "Globally-folded circuit with a scale factor of 2:\n",
      "0: ──RY(4.56)─╭●──RY(5.93)──RY(-5.93)────────────────────────────────────╭●\n",
      "1: ──RY(3.60)─╰Z──RY(5.90)─╭●──────────RY(5.18)──RY(-5.18)─╭●──RY(-5.90)─╰Z\n",
      "2: ──RY(4.05)─╭●──RY(3.32)─╰Z──────────RY(1.07)──RY(-1.07)─╰Z──RY(-3.32)─╭●\n",
      "3: ──RY(3.51)─╰Z──RY(3.66)──RY(-3.66)────────────────────────────────────╰Z\n",
      "\n",
      "───RY(-4.56)──RY(4.56)─╭●───────────────────────────────────────────────────────\n",
      "───RY(-3.60)──RY(3.60)─╰Z──RY(5.90)─╭●──RY(5.18)──RY(-5.18)──RY(5.18)──RY(-5.18)\n",
      "───RY(-4.05)──RY(4.05)─╭●──RY(3.32)─╰Z──RY(1.07)──RY(-1.07)──RY(1.07)──RY(-1.07)\n",
      "───RY(-3.51)──RY(3.51)─╰Z───────────────────────────────────────────────────────\n",
      "\n",
      "────────────────╭●──RY(-4.56)─┤  \n",
      "──╭●──RY(-5.90)─╰Z──RY(-3.60)─┤  \n",
      "──╰Z──RY(-3.32)─╭●──RY(-4.05)─┤  \n",
      "────────────────╰Z──RY(-3.51)─┤  \n",
      "Globally-folded circuit with a scale factor of 3:\n",
      "0: ──RY(4.56)─╭●──RY(5.93)──RY(-5.93)────────────────────────────────────╭●\n",
      "1: ──RY(3.60)─╰Z──RY(5.90)─╭●──────────RY(5.18)──RY(-5.18)─╭●──RY(-5.90)─╰Z\n",
      "2: ──RY(4.05)─╭●──RY(3.32)─╰Z──────────RY(1.07)──RY(-1.07)─╰Z──RY(-3.32)─╭●\n",
      "3: ──RY(3.51)─╰Z──RY(3.66)──RY(-3.66)────────────────────────────────────╰Z\n",
      "\n",
      "───RY(-4.56)──RY(4.56)─╭●──RY(5.93)──RY(-5.93)────────────────────────\n",
      "───RY(-3.60)──RY(3.60)─╰Z──RY(5.90)─╭●──────────RY(5.18)──RY(-5.18)─╭●\n",
      "───RY(-4.05)──RY(4.05)─╭●──RY(3.32)─╰Z──────────RY(1.07)──RY(-1.07)─╰Z\n",
      "───RY(-3.51)──RY(3.51)─╰Z──RY(3.66)──RY(-3.66)────────────────────────\n",
      "\n",
      "─────────────╭●──RY(-4.56)──RY(4.56)─╭●──RY(5.93)──RY(-5.93)──────────\n",
      "───RY(-5.90)─╰Z──RY(-3.60)──RY(3.60)─╰Z──RY(5.90)─╭●──────────RY(5.18)\n",
      "───RY(-3.32)─╭●──RY(-4.05)──RY(4.05)─╭●──RY(3.32)─╰Z──────────RY(1.07)\n",
      "─────────────╰Z──RY(-3.51)──RY(3.51)─╰Z──RY(3.66)──RY(-3.66)──────────\n",
      "\n",
      "───────────────────────────╭●──RY(-4.56)─┤  \n",
      "───RY(-5.18)─╭●──RY(-5.90)─╰Z──RY(-3.60)─┤  \n",
      "───RY(-1.07)─╰Z──RY(-3.32)─╭●──RY(-4.05)─┤  \n",
      "───────────────────────────╰Z──RY(-3.51)─┤  \n"
     ]
    }
   ],
   "source": [
    "scale_factors = [1, 2, 3]\n",
    "folded_circuits = [fold_global(circuit, scale_factor=s) for s in scale_factors]\n",
    "\n",
    "for s, c in zip(scale_factors, folded_circuits):\n",
    "    print(f\"Globally-folded circuit with a scale factor of {s}:\")\n",
    "    print(qml.drawer.tape_text(c, decimals=2, max_length=80))"
   ]
  },
  {
   "cell_type": "code",
   "execution_count": 114,
   "metadata": {},
   "outputs": [],
   "source": [
    "def executor(circuits, dev=dev_noisy):\n",
    "    # Support both a single circuit and multiple circuit execution\n",
    "    circuits = [circuits] if isinstance(circuits, qml.tape.QuantumTape) else circuits\n",
    "\n",
    "    circuits_with_meas = []\n",
    "\n",
    "    # Loop through circuits and add on measurement\n",
    "    for c in circuits:\n",
    "        with qml.tape.QuantumTape() as circuit_with_meas:\n",
    "            for o in c.operations:\n",
    "                qml.apply(o)\n",
    "            qml.expval(qml.PauliZ(0))\n",
    "        circuits_with_meas.append(circuit_with_meas)\n",
    "\n",
    "    return qml.execute(circuits_with_meas, dev, gradient_fn=None)"
   ]
  },
  {
   "cell_type": "code",
   "execution_count": 115,
   "metadata": {},
   "outputs": [
    {
     "data": {
      "text/plain": [
       "[array([1.]), array([1.]), array([1.])]"
      ]
     },
     "execution_count": 115,
     "metadata": {},
     "output_type": "execute_result"
    }
   ],
   "source": [
    "executor(folded_circuits, dev=dev_ideal)"
   ]
  },
  {
   "cell_type": "code",
   "execution_count": 116,
   "metadata": {},
   "outputs": [
    {
     "data": {
      "text/plain": [
       "[array([0.71729164]), array([0.54368629]), array([0.3777036])]"
      ]
     },
     "execution_count": 116,
     "metadata": {},
     "output_type": "execute_result"
    }
   ],
   "source": [
    "executor(folded_circuits, dev=dev_noisy)"
   ]
  },
  {
   "cell_type": "code",
   "execution_count": 117,
   "metadata": {},
   "outputs": [
    {
     "name": "stdout",
     "output_type": "stream",
     "text": [
      "ZNE result: 0.8985196547410819\n"
     ]
    }
   ],
   "source": [
    "# Evaluate noise-scaled expectation values\n",
    "noisy_expectation_values = executor(folded_circuits, dev=dev_noisy)\n",
    "\n",
    "# Initialize extrapolation method\n",
    "fac = RichardsonFactory(scale_factors)\n",
    "\n",
    "# Load data into extrapolation factory\n",
    "for x, y in zip(scale_factors, noisy_expectation_values):\n",
    "    fac.push({\"scale_factor\": x}, y)\n",
    "\n",
    "# Run extrapolation\n",
    "zero_noise = fac.reduce()\n",
    "\n",
    "print(f\"ZNE result: {zero_noise[0]}\")"
   ]
  },
  {
   "cell_type": "code",
   "execution_count": 118,
   "metadata": {},
   "outputs": [
    {
     "data": {
      "image/png": "[encoded data removed]",
      "text/plain": [
       "<Figure size 700x500 with 1 Axes>"
      ]
     },
     "metadata": {},
     "output_type": "display_data"
    }
   ],
   "source": [
    "_ = fac.plot_fit()"
   ]
  },
  {
   "cell_type": "code",
   "execution_count": null,
   "metadata": {},
   "outputs": [],
   "source": [
    "dev = "
   ]
  },
  {
   "cell_type": "code",
   "execution_count": 119,
   "metadata": {},
   "outputs": [
    {
     "ename": "NameError",
     "evalue": "name 'qnode' is not defined",
     "output_type": "error",
     "traceback": [
      "\u001b[0;31m---------------------------------------------------------------------------\u001b[0m",
      "\u001b[0;31mNameError\u001b[0m                                 Traceback (most recent call last)",
      "\u001b[1;32m/Users/choi/Desktop/Quantum/Python_Quantum/mitigation.ipynb 셀 15\u001b[0m in \u001b[0;36m<cell line: 1>\u001b[0;34m()\u001b[0m\n\u001b[0;32m----> <a href='vscode-notebook-cell:/Users/choi/Desktop/Quantum/Python_Quantum/mitigation.ipynb#X20sZmlsZQ%3D%3D?line=0'>1</a>\u001b[0m mitigated_qnode \u001b[39m=\u001b[39m mitigate_with_zne(scale_factors, folding, extrapolate)(qnode)\n",
      "\u001b[0;31mNameError\u001b[0m: name 'qnode' is not defined"
     ]
    }
   ],
   "source": [
    "mitigated_qnode = mitigate_with_zne(scale_factors, folding, extrapolate)(qnode)"
   ]
  },
  {
   "cell_type": "code",
   "execution_count": null,
   "metadata": {},
   "outputs": [
    {
     "data": {
      "text/plain": [
       "1.0051813776184257"
      ]
     },
     "execution_count": 87,
     "metadata": {},
     "output_type": "execute_result"
    }
   ],
   "source": [
    "from mitiq.zne.scaling import fold_gates_at_random as folding\n",
    "\n",
    "extrapolate = RichardsonFactory.extrapolate\n",
    "\n",
    "\n",
    "@mitigate_with_zne(scale_factors, folding, extrapolate, reps_per_factor=100)\n",
    "@qml.qnode(dev_noisy)\n",
    "def mitigated_qnode(w1, w2):\n",
    "    template(w1, w2, wires=range(n_wires))\n",
    "    qml.adjoint(template)(w1, w2, wires=range(n_wires))\n",
    "    return qml.expval(qml.PauliZ(0))\n",
    "\n",
    "\n",
    "mitigated_qnode(w1, w2)"
   ]
  },
  {
   "cell_type": "code",
   "execution_count": null,
   "metadata": {},
   "outputs": [
    {
     "name": "stdout",
     "output_type": "stream",
     "text": [
      "0: ──RY(3.58)─╭●──────────RY(2.36)──RY(-2.36)───────────────────────────────\n",
      "1: ──RY(3.55)─╰Z──────────RY(3.34)──────────────────────╭●──────────RY(1.49)\n",
      "2: ──RY(3.07)──RY(-3.07)──RY(3.07)─╭●──────────RY(0.43)─╰Z──────────RY(1.01)\n",
      "3: ──RY(2.11)──────────────────────╰Z──────────RY(3.67)──RY(-3.67)──────────\n",
      "\n",
      "───────────────────────────╭●──RY(-3.58)─┤  \n",
      "───RY(-1.49)─╭●──RY(-3.34)─╰Z──RY(-3.55)─┤  \n",
      "───RY(-1.01)─╰Z──RY(-0.43)─╭●──RY(-3.07)─┤  \n",
      "───────────────────────────╰Z──RY(-2.11)─┤  \n",
      "0: ──RY(3.58)─╭●──RY(2.36)──RY(-2.36)────────────────────────────────────╭●\n",
      "1: ──RY(3.55)─╰Z──RY(3.34)─╭●──────────RY(1.49)──RY(-1.49)─╭●──RY(-3.34)─╰Z\n",
      "2: ──RY(3.07)─╭●──RY(0.43)─╰Z──────────RY(1.01)──RY(-1.01)─╰Z──RY(-0.43)─╭●\n",
      "3: ──RY(2.11)─╰Z──RY(3.67)──RY(-3.67)────────────────────────────────────╰Z\n",
      "\n",
      "───RY(-3.58)───────────────┤  \n",
      "───RY(-3.55)───────────────┤  \n",
      "──╭●─────────╭●──RY(-3.07)─┤  \n",
      "──╰Z─────────╰Z──RY(-2.11)─┤  \n",
      "0: ──RY(3.58)─╭●──RY(2.36)──RY(-2.36)──────────────────────────────────────────\n",
      "1: ──RY(3.55)─╰Z──RY(3.34)─╭●──────────RY(1.49)──RY(-1.49)─────────────────────\n",
      "2: ──RY(3.07)─╭●──RY(0.43)─╰Z──────────RY(1.01)──RY(-1.01)──RY(1.01)──RY(-1.01)\n",
      "3: ──RY(2.11)─╰Z──RY(3.67)──RY(-3.67)──────────────────────────────────────────\n",
      "\n",
      "────────────────╭●──RY(-3.58)─┤  \n",
      "──╭●──RY(-3.34)─╰Z──RY(-3.55)─┤  \n",
      "──╰Z──RY(-0.43)─╭●──RY(-3.07)─┤  \n",
      "────────────────╰Z──RY(-2.11)─┤  \n"
     ]
    }
   ],
   "source": [
    "for _ in range(3):\n",
    "    print(qml.drawer.tape_text(folding(circuit, scale_factor=1.1), decimals=2, max_length=80))"
   ]
  },
  {
   "cell_type": "code",
   "execution_count": null,
   "metadata": {},
   "outputs": [
    {
     "ename": "ExtrapolationError",
     "evalue": "The extrapolation fit failed to converge. The problem may be solved by switching to a more stable extrapolation model such as `LinearFactory`.",
     "output_type": "error",
     "traceback": [
      "\u001b[0;31m---------------------------------------------------------------------------\u001b[0m",
      "\u001b[0;31mExtrapolationError\u001b[0m                        Traceback (most recent call last)",
      "\u001b[1;32m/Users/choi/Desktop/Quantum/Python_Quantum/mitigation.ipynb 셀 18\u001b[0m in \u001b[0;36m<cell line: 6>\u001b[0;34m()\u001b[0m\n\u001b[1;32m      <a href='vscode-notebook-cell:/Users/choi/Desktop/Quantum/Python_Quantum/mitigation.ipynb#X23sZmlsZQ%3D%3D?line=1'>2</a>\u001b[0m \u001b[39mfrom\u001b[39;00m \u001b[39mmitiq\u001b[39;00m\u001b[39m.\u001b[39;00m\u001b[39mzne\u001b[39;00m\u001b[39m.\u001b[39;00m\u001b[39minference\u001b[39;00m \u001b[39mimport\u001b[39;00m AdaExpFactory\n\u001b[1;32m      <a href='vscode-notebook-cell:/Users/choi/Desktop/Quantum/Python_Quantum/mitigation.ipynb#X23sZmlsZQ%3D%3D?line=3'>4</a>\u001b[0m factory \u001b[39m=\u001b[39m AdaExpFactory(steps\u001b[39m=\u001b[39m\u001b[39m20\u001b[39m)\n\u001b[0;32m----> <a href='vscode-notebook-cell:/Users/choi/Desktop/Quantum/Python_Quantum/mitigation.ipynb#X23sZmlsZQ%3D%3D?line=5'>6</a>\u001b[0m execute_with_zne(circuit, executor, factory\u001b[39m=\u001b[39;49mfactory, scale_noise\u001b[39m=\u001b[39;49mfold_global)\n",
      "File \u001b[0;32m/opt/homebrew/lib/python3.10/site-packages/mitiq/zne/zne.py:70\u001b[0m, in \u001b[0;36mexecute_with_zne\u001b[0;34m(circuit, executor, observable, factory, scale_noise, num_to_average)\u001b[0m\n\u001b[1;32m     67\u001b[0m \u001b[39mif\u001b[39;00m num_to_average \u001b[39m<\u001b[39m \u001b[39m1\u001b[39m:\n\u001b[1;32m     68\u001b[0m     \u001b[39mraise\u001b[39;00m \u001b[39mValueError\u001b[39;00m(\u001b[39m\"\u001b[39m\u001b[39mArgument `num_to_average` must be a positive int.\u001b[39m\u001b[39m\"\u001b[39m)\n\u001b[0;32m---> 70\u001b[0m \u001b[39mreturn\u001b[39;00m factory\u001b[39m.\u001b[39;49mrun(\n\u001b[1;32m     71\u001b[0m     circuit, executor, observable, scale_noise, \u001b[39mint\u001b[39;49m(num_to_average)\n\u001b[1;32m     72\u001b[0m )\u001b[39m.\u001b[39mreduce()\n",
      "File \u001b[0;32m/opt/homebrew/lib/python3.10/site-packages/mitiq/zne/inference.py:786\u001b[0m, in \u001b[0;36mAdaptiveFactory.run\u001b[0;34m(self, qp, executor, observable, scale_noise, num_to_average, max_iterations)\u001b[0m\n\u001b[1;32m    781\u001b[0m     expectation_values \u001b[39m=\u001b[39m executor\u001b[39m.\u001b[39mevaluate(  \u001b[39m# type: ignore[union-attr]\u001b[39;00m\n\u001b[1;32m    782\u001b[0m         to_run, observable, force_run_all\u001b[39m=\u001b[39m\u001b[39mTrue\u001b[39;00m, \u001b[39m*\u001b[39m\u001b[39m*\u001b[39mexec_params\n\u001b[1;32m    783\u001b[0m     )\n\u001b[1;32m    784\u001b[0m     \u001b[39mreturn\u001b[39;00m cast(\u001b[39mfloat\u001b[39m, np\u001b[39m.\u001b[39maverage(expectation_values))\n\u001b[0;32m--> 786\u001b[0m \u001b[39mreturn\u001b[39;00m \u001b[39mself\u001b[39;49m\u001b[39m.\u001b[39;49mrun_classical(\n\u001b[1;32m    787\u001b[0m     scale_factor_to_expectation_value, max_iterations\n\u001b[1;32m    788\u001b[0m )\n",
      "File \u001b[0;32m/opt/homebrew/lib/python3.10/site-packages/mitiq/zne/inference.py:716\u001b[0m, in \u001b[0;36mAdaptiveFactory.run_classical\u001b[0;34m(self, scale_factor_to_expectation_value, max_iterations)\u001b[0m\n\u001b[1;32m    714\u001b[0m counter \u001b[39m=\u001b[39m \u001b[39m0\u001b[39m\n\u001b[1;32m    715\u001b[0m \u001b[39mwhile\u001b[39;00m \u001b[39mnot\u001b[39;00m \u001b[39mself\u001b[39m\u001b[39m.\u001b[39mis_converged() \u001b[39mand\u001b[39;00m counter \u001b[39m<\u001b[39m max_iterations:\n\u001b[0;32m--> 716\u001b[0m     next_in_params \u001b[39m=\u001b[39m \u001b[39mself\u001b[39;49m\u001b[39m.\u001b[39;49mnext()\n\u001b[1;32m    717\u001b[0m     next_exec_params \u001b[39m=\u001b[39m deepcopy(next_in_params)\n\u001b[1;32m    719\u001b[0m     \u001b[39m# Get next scale factor and remove it from next_exec_params\u001b[39;00m\n",
      "File \u001b[0;32m/opt/homebrew/lib/python3.10/site-packages/mitiq/zne/inference.py:1576\u001b[0m, in \u001b[0;36mAdaExpFactory.next\u001b[0;34m(self)\u001b[0m\n\u001b[1;32m   1574\u001b[0m warnings\u001b[39m.\u001b[39msimplefilter(\u001b[39m\"\u001b[39m\u001b[39mignore\u001b[39m\u001b[39m\"\u001b[39m, ExtrapolationWarning)\n\u001b[1;32m   1575\u001b[0m \u001b[39m# Call reduce() to fit the exponent and save it in self.history\u001b[39;00m\n\u001b[0;32m-> 1576\u001b[0m \u001b[39mself\u001b[39;49m\u001b[39m.\u001b[39;49mreduce()\n\u001b[1;32m   1577\u001b[0m \u001b[39m# The next line avoids warnings after intermediate extrapolations\u001b[39;00m\n\u001b[1;32m   1578\u001b[0m \u001b[39mself\u001b[39m\u001b[39m.\u001b[39m_already_reduced \u001b[39m=\u001b[39m \u001b[39mFalse\u001b[39;00m\n",
      "File \u001b[0;32m/opt/homebrew/lib/python3.10/site-packages/mitiq/zne/inference.py:1675\u001b[0m, in \u001b[0;36mAdaExpFactory.reduce\u001b[0;34m(self)\u001b[0m\n\u001b[1;32m   1662\u001b[0m \u001b[39mdef\u001b[39;00m \u001b[39mreduce\u001b[39m(\u001b[39mself\u001b[39m) \u001b[39m-\u001b[39m\u001b[39m>\u001b[39m \u001b[39mfloat\u001b[39m:\n\u001b[1;32m   1663\u001b[0m     \u001b[39m\"\"\"Returns the zero-noise limit found by fitting an exponential\u001b[39;00m\n\u001b[1;32m   1664\u001b[0m \u001b[39m    model to the internal data stored in the factory.\u001b[39;00m\n\u001b[1;32m   1665\u001b[0m \n\u001b[1;32m   1666\u001b[0m \u001b[39m    Returns:\u001b[39;00m\n\u001b[1;32m   1667\u001b[0m \u001b[39m        The zero-noise limit.\u001b[39;00m\n\u001b[1;32m   1668\u001b[0m \u001b[39m    \"\"\"\u001b[39;00m\n\u001b[1;32m   1669\u001b[0m     (\n\u001b[1;32m   1670\u001b[0m         \u001b[39mself\u001b[39m\u001b[39m.\u001b[39m_zne_limit,\n\u001b[1;32m   1671\u001b[0m         \u001b[39mself\u001b[39m\u001b[39m.\u001b[39m_zne_error,\n\u001b[1;32m   1672\u001b[0m         \u001b[39mself\u001b[39m\u001b[39m.\u001b[39m_opt_params,\n\u001b[1;32m   1673\u001b[0m         \u001b[39mself\u001b[39m\u001b[39m.\u001b[39m_params_cov,\n\u001b[1;32m   1674\u001b[0m         \u001b[39mself\u001b[39m\u001b[39m.\u001b[39m_zne_curve,\n\u001b[0;32m-> 1675\u001b[0m     ) \u001b[39m=\u001b[39m \u001b[39mself\u001b[39;49m\u001b[39m.\u001b[39;49mextrapolate(  \u001b[39m# type: ignore\u001b[39;49;00m\n\u001b[1;32m   1676\u001b[0m         cast(Sequence[\u001b[39mfloat\u001b[39;49m], \u001b[39mself\u001b[39;49m\u001b[39m.\u001b[39;49mget_scale_factors()),\n\u001b[1;32m   1677\u001b[0m         cast(Sequence[\u001b[39mfloat\u001b[39;49m], \u001b[39mself\u001b[39;49m\u001b[39m.\u001b[39;49mget_expectation_values()),\n\u001b[1;32m   1678\u001b[0m         asymptote\u001b[39m=\u001b[39;49m\u001b[39mself\u001b[39;49m\u001b[39m.\u001b[39;49masymptote,\n\u001b[1;32m   1679\u001b[0m         avoid_log\u001b[39m=\u001b[39;49m\u001b[39mself\u001b[39;49m\u001b[39m.\u001b[39;49mavoid_log,\n\u001b[1;32m   1680\u001b[0m         full_output\u001b[39m=\u001b[39;49m\u001b[39mTrue\u001b[39;49;00m,\n\u001b[1;32m   1681\u001b[0m     )\n\u001b[1;32m   1682\u001b[0m     \u001b[39m# Update optimization history\u001b[39;00m\n\u001b[1;32m   1683\u001b[0m     \u001b[39mself\u001b[39m\u001b[39m.\u001b[39mhistory\u001b[39m.\u001b[39mappend(\n\u001b[1;32m   1684\u001b[0m         (\u001b[39mself\u001b[39m\u001b[39m.\u001b[39m_instack, \u001b[39mself\u001b[39m\u001b[39m.\u001b[39m_outstack, \u001b[39mself\u001b[39m\u001b[39m.\u001b[39m_opt_params, \u001b[39mself\u001b[39m\u001b[39m.\u001b[39m_zne_limit)\n\u001b[1;32m   1685\u001b[0m     )\n",
      "File \u001b[0;32m/opt/homebrew/lib/python3.10/site-packages/mitiq/zne/inference.py:1653\u001b[0m, in \u001b[0;36mAdaExpFactory.extrapolate\u001b[0;34m(scale_factors, exp_values, asymptote, avoid_log, eps, full_output)\u001b[0m\n\u001b[1;32m   1603\u001b[0m \u001b[39m@staticmethod\u001b[39m\n\u001b[1;32m   1604\u001b[0m \u001b[39mdef\u001b[39;00m \u001b[39mextrapolate\u001b[39m(  \u001b[39m# type: ignore\u001b[39;00m\n\u001b[1;32m   1605\u001b[0m     scale_factors: Sequence[\u001b[39mfloat\u001b[39m],\n\u001b[0;32m   (...)\u001b[0m\n\u001b[1;32m   1610\u001b[0m     full_output: \u001b[39mbool\u001b[39m \u001b[39m=\u001b[39m \u001b[39mFalse\u001b[39;00m,\n\u001b[1;32m   1611\u001b[0m ) \u001b[39m-\u001b[39m\u001b[39m>\u001b[39m ExtrapolationResult:\n\u001b[1;32m   1612\u001b[0m     \u001b[39m\"\"\"Static method which evaluates the extrapolation to the zero-noise\u001b[39;00m\n\u001b[1;32m   1613\u001b[0m \u001b[39m    limit assuming an exponential ansatz y(x) = a + b * exp(-c * x),\u001b[39;00m\n\u001b[1;32m   1614\u001b[0m \u001b[39m    with c > 0.\u001b[39;00m\n\u001b[0;32m   (...)\u001b[0m\n\u001b[1;32m   1651\u001b[0m \u001b[39m        parameters, use the ``reduce`` method.\u001b[39;00m\n\u001b[1;32m   1652\u001b[0m \u001b[39m    \"\"\"\u001b[39;00m\n\u001b[0;32m-> 1653\u001b[0m     \u001b[39mreturn\u001b[39;00m ExpFactory\u001b[39m.\u001b[39;49mextrapolate(\n\u001b[1;32m   1654\u001b[0m         scale_factors,\n\u001b[1;32m   1655\u001b[0m         exp_values,\n\u001b[1;32m   1656\u001b[0m         asymptote\u001b[39m=\u001b[39;49masymptote,\n\u001b[1;32m   1657\u001b[0m         avoid_log\u001b[39m=\u001b[39;49mavoid_log,\n\u001b[1;32m   1658\u001b[0m         eps\u001b[39m=\u001b[39;49meps,\n\u001b[1;32m   1659\u001b[0m         full_output\u001b[39m=\u001b[39;49mfull_output,\n\u001b[1;32m   1660\u001b[0m     )\n",
      "File \u001b[0;32m/opt/homebrew/lib/python3.10/site-packages/mitiq/zne/inference.py:1205\u001b[0m, in \u001b[0;36mExpFactory.extrapolate\u001b[0;34m(scale_factors, exp_values, asymptote, avoid_log, eps, full_output)\u001b[0m\n\u001b[1;32m   1154\u001b[0m \u001b[39m@staticmethod\u001b[39m\n\u001b[1;32m   1155\u001b[0m \u001b[39mdef\u001b[39;00m \u001b[39mextrapolate\u001b[39m(  \u001b[39m# type: ignore\u001b[39;00m\n\u001b[1;32m   1156\u001b[0m     scale_factors: Sequence[\u001b[39mfloat\u001b[39m],\n\u001b[0;32m   (...)\u001b[0m\n\u001b[1;32m   1161\u001b[0m     full_output: \u001b[39mbool\u001b[39m \u001b[39m=\u001b[39m \u001b[39mFalse\u001b[39;00m,\n\u001b[1;32m   1162\u001b[0m ) \u001b[39m-\u001b[39m\u001b[39m>\u001b[39m ExtrapolationResult:\n\u001b[1;32m   1163\u001b[0m     \u001b[39m\"\"\"Static method which evaluates the extrapolation to the zero-noise\u001b[39;00m\n\u001b[1;32m   1164\u001b[0m \u001b[39m    limit assuming an exponential ansatz y(x) = a + b * exp(-c * x),\u001b[39;00m\n\u001b[1;32m   1165\u001b[0m \u001b[39m    with c > 0.\u001b[39;00m\n\u001b[0;32m   (...)\u001b[0m\n\u001b[1;32m   1203\u001b[0m \u001b[39m        parameters, use the ``reduce`` method.\u001b[39;00m\n\u001b[1;32m   1204\u001b[0m \u001b[39m    \"\"\"\u001b[39;00m\n\u001b[0;32m-> 1205\u001b[0m     \u001b[39mreturn\u001b[39;00m PolyExpFactory\u001b[39m.\u001b[39;49mextrapolate(\n\u001b[1;32m   1206\u001b[0m         scale_factors,\n\u001b[1;32m   1207\u001b[0m         exp_values,\n\u001b[1;32m   1208\u001b[0m         order\u001b[39m=\u001b[39;49m\u001b[39m1\u001b[39;49m,\n\u001b[1;32m   1209\u001b[0m         asymptote\u001b[39m=\u001b[39;49masymptote,\n\u001b[1;32m   1210\u001b[0m         avoid_log\u001b[39m=\u001b[39;49mavoid_log,\n\u001b[1;32m   1211\u001b[0m         eps\u001b[39m=\u001b[39;49meps,\n\u001b[1;32m   1212\u001b[0m         full_output\u001b[39m=\u001b[39;49mfull_output,\n\u001b[1;32m   1213\u001b[0m     )\n",
      "File \u001b[0;32m/opt/homebrew/lib/python3.10/site-packages/mitiq/zne/inference.py:1384\u001b[0m, in \u001b[0;36mPolyExpFactory.extrapolate\u001b[0;34m(scale_factors, exp_values, order, asymptote, avoid_log, eps, full_output)\u001b[0m\n\u001b[1;32m   1381\u001b[0m \u001b[39mif\u001b[39;00m asymptote \u001b[39mis\u001b[39;00m \u001b[39mNone\u001b[39;00m:\n\u001b[1;32m   1382\u001b[0m     \u001b[39m# First guess for the parameters\u001b[39;00m\n\u001b[1;32m   1383\u001b[0m     p_zero \u001b[39m=\u001b[39m [\u001b[39m0.0\u001b[39m, sign, \u001b[39m-\u001b[39m\u001b[39m1.0\u001b[39m] \u001b[39m+\u001b[39m [\u001b[39m0.0\u001b[39m \u001b[39mfor\u001b[39;00m _ \u001b[39min\u001b[39;00m \u001b[39mrange\u001b[39m(order \u001b[39m-\u001b[39m \u001b[39m1\u001b[39m)]\n\u001b[0;32m-> 1384\u001b[0m     opt_params, params_cov \u001b[39m=\u001b[39m mitiq_curve_fit(\n\u001b[1;32m   1385\u001b[0m         _ansatz_unknown, scale_factors, exp_values, p_zero\n\u001b[1;32m   1386\u001b[0m     )\n\u001b[1;32m   1387\u001b[0m     \u001b[39m# The zero noise limit is ansatz(0)= asympt + b\u001b[39;00m\n\u001b[1;32m   1388\u001b[0m     zne_limit \u001b[39m=\u001b[39m opt_params[\u001b[39m0\u001b[39m] \u001b[39m+\u001b[39m opt_params[\u001b[39m1\u001b[39m]\n",
      "File \u001b[0;32m/opt/homebrew/lib/python3.10/site-packages/mitiq/zne/inference.py:156\u001b[0m, in \u001b[0;36mmitiq_curve_fit\u001b[0;34m(ansatz, scale_factors, exp_values, init_params)\u001b[0m\n\u001b[1;32m    152\u001b[0m         warnings\u001b[39m.\u001b[39mwarn_explicit(\n\u001b[1;32m    153\u001b[0m             warn\u001b[39m.\u001b[39mmessage, warn\u001b[39m.\u001b[39mcategory, warn\u001b[39m.\u001b[39mfilename, warn\u001b[39m.\u001b[39mlineno\n\u001b[1;32m    154\u001b[0m         )\n\u001b[1;32m    155\u001b[0m \u001b[39mexcept\u001b[39;00m \u001b[39mRuntimeError\u001b[39;00m:\n\u001b[0;32m--> 156\u001b[0m     \u001b[39mraise\u001b[39;00m ExtrapolationError(_EXTR_ERR) \u001b[39mfrom\u001b[39;00m \u001b[39mNone\u001b[39m\n\u001b[1;32m    157\u001b[0m \u001b[39mreturn\u001b[39;00m \u001b[39mlist\u001b[39m(opt_params), params_cov\n",
      "\u001b[0;31mExtrapolationError\u001b[0m: The extrapolation fit failed to converge. The problem may be solved by switching to a more stable extrapolation model such as `LinearFactory`."
     ]
    }
   ],
   "source": [
    "from mitiq.zne import execute_with_zne\n",
    "from mitiq.zne.inference import AdaExpFactory\n",
    "\n",
    "factory = AdaExpFactory(steps=20)\n",
    "\n",
    "execute_with_zne(circuit, executor, factory=factory, scale_noise=fold_global)"
   ]
  },
  {
   "cell_type": "code",
   "execution_count": null,
   "metadata": {},
   "outputs": [],
   "source": [
    "from qiskit.test.mock import FakeLima\n",
    "from qiskit.providers.aer.noise import NoiseModel\n",
    "\n",
    "backend = FakeLima()\n",
    "noise_model = NoiseModel.from_backend(backend)"
   ]
  },
  {
   "cell_type": "code",
   "execution_count": null,
   "metadata": {},
   "outputs": [],
   "source": [
    "n_wires = 4\n",
    "\n",
    "dev_ideal = qml.device(\"default.qubit\", wires=n_wires)\n",
    "dev_noisy = qml.device(\n",
    "    \"qiskit.aer\",\n",
    "    wires=n_wires,\n",
    "    noise_model=noise_model,\n",
    "    optimization_level=0,\n",
    "    shots=10000,\n",
    ")"
   ]
  },
  {
   "cell_type": "code",
   "execution_count": null,
   "metadata": {},
   "outputs": [],
   "source": [
    "params = np.load(\"./Error_mitigation/params.npy\")"
   ]
  },
  {
   "cell_type": "code",
   "execution_count": null,
   "metadata": {},
   "outputs": [],
   "source": [
    "from pennylane import qchem\n",
    "\n",
    "# Describe quantum chemistry problem\n",
    "symbols = [\"H\", \"H\"]\n",
    "distances = np.arange(0.5, 3.0, 0.25)\n",
    "\n",
    "ideal_energies = []\n",
    "noisy_energies = []\n",
    "\n",
    "for r, phi in zip(distances, params):\n",
    "    # Assume atoms lie on the Z axis\n",
    "    coordinates = np.array([0.0, 0.0, 0.0, 0.0, 0.0, r])\n",
    "\n",
    "    # Load qubit Hamiltonian\n",
    "    H, _ = qchem.molecular_hamiltonian(symbols, coordinates)\n",
    "\n",
    "    # Define ansatz circuit\n",
    "    def qchem_circuit(phi):\n",
    "        qml.PauliX(wires=0)\n",
    "        qml.PauliX(wires=1)\n",
    "        qml.DoubleExcitation(phi, wires=range(n_wires))\n",
    "        return qml.expval(H)\n",
    "\n",
    "    ideal_energy = qml.QNode(qchem_circuit, dev_ideal)\n",
    "    noisy_energy = qml.QNode(qchem_circuit, dev_noisy)\n",
    "\n",
    "    ideal_energies.append(ideal_energy(phi))\n",
    "    noisy_energies.append(noisy_energy(phi))"
   ]
  },
  {
   "cell_type": "code",
   "execution_count": null,
   "metadata": {},
   "outputs": [],
   "source": [
    "mitig_energies = []\n",
    "\n",
    "for r, phi in zip(distances, params):\n",
    "    # Assume atoms lie on the Z axis\n",
    "    coordinates = np.array([0.0, 0.0, 0.0, 0.0, 0.0, r])\n",
    "\n",
    "    # Load qubit Hamiltonian\n",
    "    H, _ = qchem.molecular_hamiltonian(symbols, coordinates)\n",
    "\n",
    "    # Define ansatz circuit\n",
    "    with qml.tape.QuantumTape() as circuit:\n",
    "        qml.PauliX(wires=0)\n",
    "        qml.PauliX(wires=1)\n",
    "        qml.DoubleExcitation(phi, wires=range(n_wires))\n",
    "\n",
    "    # Define custom executor that expands Hamiltonian measurement\n",
    "    # into a linear combination of tensor products of Pauli\n",
    "    # operators.\n",
    "    def executor(circuit):\n",
    "\n",
    "        # Add Hamiltonian measurement to circuit\n",
    "        with qml.tape.QuantumTape() as circuit_with_meas:\n",
    "            for o in circuit.operations:\n",
    "                qml.apply(o)\n",
    "            qml.expval(H)\n",
    "\n",
    "        # Expand Hamiltonian measurement into tensor product of\n",
    "        # of Pauli operators. We get a list of circuits to execute\n",
    "        # and a postprocessing function to combine the results into\n",
    "        # a single number.\n",
    "        circuits, postproc = qml.transforms.hamiltonian_expand(\n",
    "            circuit_with_meas, group=False\n",
    "        )\n",
    "        circuits_executed = qml.execute(circuits, dev_noisy, gradient_fn=None)\n",
    "        return postproc(circuits_executed)\n",
    "\n",
    "    mitig_energy = execute_with_zne(circuit, executor, scale_noise=fold_global)\n",
    "    mitig_energies.append(mitig_energy)"
   ]
  },
  {
   "cell_type": "code",
   "execution_count": null,
   "metadata": {},
   "outputs": [],
   "source": [
    "import matplotlib.pyplot as plt\n",
    "\n",
    "plt.plot(ideal_energies, label=\"ideal\")\n",
    "plt.plot(noisy_energies, label=\"noisy\")\n",
    "plt.plot(mitig_energies, label=\"mitigated\")\n",
    "plt.xlabel(\"Bond length (Bohr)\")\n",
    "plt.ylabel(\"Total energy (Hartree)\")\n",
    "plt.legend()\n",
    "plt.show()"
   ]
  }
 ],
 "metadata": {
  "kernelspec": {
   "display_name": "Python 3.10.8 64-bit",
   "language": "python",
   "name": "python3"
  },
  "language_info": {
   "codemirror_mode": {
    "name": "ipython",
    "version": 3
   },
   "file_extension": ".py",
   "mimetype": "text/x-python",
   "name": "python",
   "nbconvert_exporter": "python",
   "pygments_lexer": "ipython3",
   "version": "3.10.8"
  },
  "orig_nbformat": 4,
  "vscode": {
   "interpreter": {
    "hash": "b0fa6594d8f4cbf19f97940f81e996739fb7646882a419484c72d19e05852a7e"
   }
  }
 },
 "nbformat": 4,
 "nbformat_minor": 2
}
